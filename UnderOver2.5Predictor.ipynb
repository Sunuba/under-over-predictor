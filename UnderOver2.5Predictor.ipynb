{
 "cells": [
  {
   "cell_type": "code",
   "execution_count": 1,
   "metadata": {},
   "outputs": [],
   "source": [
    "import pandas as pd\n",
    "import seaborn as sns\n",
    "import tensorflow as tf\n",
    "from tensorflow import keras\n",
    "from tensorflow.python.keras import layers\n",
    "import matplotlib.pyplot as plt\n",
    "import time"
   ]
  },
  {
   "cell_type": "code",
   "execution_count": 2,
   "metadata": {},
   "outputs": [],
   "source": [
    "class Xetle(keras.callbacks.Callback):\n",
    "    def on_epoch_end(self, epoch, logs):\n",
    "        if epoch % 100 == 0: print('')\n",
    "        print(str(epoch) + ', ', end='')\n",
    "\n",
    "\n",
    "        \n",
    "def plot_history(history):\n",
    "  hist = pd.DataFrame(history.history)\n",
    "  hist['epoch'] = history.epoch\n",
    "  \n",
    "  plt.figure()\n",
    "  plt.xlabel('Epoch')\n",
    "  plt.ylabel('Ortalamanın mütləq xətası [AZN]')\n",
    "  plt.plot(hist['epoch'], hist['mean_absolute_error'],\n",
    "           label='Məşğələ Xətası')\n",
    "  plt.plot(hist['epoch'], hist['val_mean_absolute_error'],\n",
    "           label = 'Dəyər Xətası')\n",
    "  plt.legend()\n",
    "  \n",
    "  plt.figure()\n",
    "  plt.xlabel('Epoch')\n",
    "  plt.ylabel('Otralamanın Kvadrat Xətası[AZN^2]')\n",
    "  plt.plot(hist['epoch'], hist['mean_squared_error'],\n",
    "           label='Məşğələ Xətası')\n",
    "  plt.plot(hist['epoch'], hist['val_mean_squared_error'],\n",
    "           label = 'Dəyər Xətası')\n",
    "  plt.legend()"
   ]
  },
  {
   "cell_type": "code",
   "execution_count": 3,
   "metadata": {},
   "outputs": [],
   "source": [
    "# Maksimal sətirlərin sayı\n",
    "pd.set_option('display.max_rows', 5000)\n",
    "# Maksimal sütunların sayı\n",
    "pd.set_option('display.max_columns', 5000)\n",
    "# Enin uzunluğu\n",
    "pd.set_option('display.width', 1000)"
   ]
  },
  {
   "cell_type": "code",
   "execution_count": 4,
   "metadata": {},
   "outputs": [],
   "source": [
    "data = 'goals.csv'"
   ]
  },
  {
   "cell_type": "code",
   "execution_count": 5,
   "metadata": {},
   "outputs": [],
   "source": [
    "column_names = ['ONE', 'X', 'TWO', 'OVER25']\n",
    "\n",
    "raw_dataset = pd.read_csv(data, names=column_names, na_values = \"?\", comment='\\t', sep=\",\", skipinitialspace=True,\n",
    "                          encoding='ISO-8859-1')\n",
    "dataset = raw_dataset.copy()"
   ]
  },
  {
   "cell_type": "code",
   "execution_count": 6,
   "metadata": {},
   "outputs": [
    {
     "data": {
      "text/html": [
       "<div>\n",
       "<style scoped>\n",
       "    .dataframe tbody tr th:only-of-type {\n",
       "        vertical-align: middle;\n",
       "    }\n",
       "\n",
       "    .dataframe tbody tr th {\n",
       "        vertical-align: top;\n",
       "    }\n",
       "\n",
       "    .dataframe thead th {\n",
       "        text-align: right;\n",
       "    }\n",
       "</style>\n",
       "<table border=\"1\" class=\"dataframe\">\n",
       "  <thead>\n",
       "    <tr style=\"text-align: right;\">\n",
       "      <th></th>\n",
       "      <th>ONE</th>\n",
       "      <th>X</th>\n",
       "      <th>TWO</th>\n",
       "      <th>OVER25</th>\n",
       "    </tr>\n",
       "  </thead>\n",
       "  <tbody>\n",
       "    <tr>\n",
       "      <th>0</th>\n",
       "      <td>8.62</td>\n",
       "      <td>4.69</td>\n",
       "      <td>1.41</td>\n",
       "      <td>1</td>\n",
       "    </tr>\n",
       "    <tr>\n",
       "      <th>1</th>\n",
       "      <td>1.56</td>\n",
       "      <td>4.33</td>\n",
       "      <td>5.88</td>\n",
       "      <td>1</td>\n",
       "    </tr>\n",
       "    <tr>\n",
       "      <th>2</th>\n",
       "      <td>2.52</td>\n",
       "      <td>3.10</td>\n",
       "      <td>3.12</td>\n",
       "      <td>0</td>\n",
       "    </tr>\n",
       "    <tr>\n",
       "      <th>3</th>\n",
       "      <td>2.90</td>\n",
       "      <td>3.10</td>\n",
       "      <td>2.67</td>\n",
       "      <td>0</td>\n",
       "    </tr>\n",
       "    <tr>\n",
       "      <th>4</th>\n",
       "      <td>1.46</td>\n",
       "      <td>4.32</td>\n",
       "      <td>7.90</td>\n",
       "      <td>0</td>\n",
       "    </tr>\n",
       "  </tbody>\n",
       "</table>\n",
       "</div>"
      ],
      "text/plain": [
       "    ONE     X   TWO  OVER25\n",
       "0  8.62  4.69  1.41       1\n",
       "1  1.56  4.33  5.88       1\n",
       "2  2.52  3.10  3.12       0\n",
       "3  2.90  3.10  2.67       0\n",
       "4  1.46  4.32  7.90       0"
      ]
     },
     "execution_count": 6,
     "metadata": {},
     "output_type": "execute_result"
    }
   ],
   "source": [
    "dataset.head()"
   ]
  },
  {
   "cell_type": "code",
   "execution_count": 7,
   "metadata": {},
   "outputs": [
    {
     "data": {
      "text/plain": [
       "ONE       0\n",
       "X         0\n",
       "TWO       0\n",
       "OVER25    0\n",
       "dtype: int64"
      ]
     },
     "execution_count": 7,
     "metadata": {},
     "output_type": "execute_result"
    }
   ],
   "source": [
    "dataset.isna().sum()"
   ]
  },
  {
   "cell_type": "code",
   "execution_count": 8,
   "metadata": {},
   "outputs": [],
   "source": [
    "# Burada məşğələ üçün datasetimizi yaradırıq, bu zaman ümumi dataseti 80 faiz həcmində məlumatı məşğələ üçün ayırırıq\n",
    "train_dataset = dataset.sample(frac=0.8,random_state=0)\n",
    "# Burada test dataseti hazırlayırıq, bu zaman ümumi datasetdən məşğələ datasetini çıxırıq və yerdə qalanı test üçün saxlayırıq\n",
    "test_dataset = dataset.drop(train_dataset.index)"
   ]
  },
  {
   "cell_type": "code",
   "execution_count": 10,
   "metadata": {},
   "outputs": [
    {
     "data": {
      "image/png": "[encoded data removed]",
      "text/plain": [
       "<Figure size 540x540 with 12 Axes>"
      ]
     },
     "metadata": {
      "needs_background": "light"
     },
     "output_type": "display_data"
    },
    {
     "data": {
      "image/png": "[encoded data removed]",
      "text/plain": [
       "<Figure size 540x540 with 12 Axes>"
      ]
     },
     "metadata": {
      "needs_background": "light"
     },
     "output_type": "display_data"
    }
   ],
   "source": [
    "# Məlumatı vizualizasiya edirik\n",
    "sns_plot = sns.pairplot(train_dataset[[\"ONE\", \"X\", \"TWO\"]], diag_kind=\"kde\")\n",
    "sns.pairplot(test_dataset[[\"ONE\", \"X\", \"TWO\"]], diag_kind=\"kde\")\n",
    "# Şəkli yaddaşa veririk.\n",
    "sns_plot.savefig('Soccer.png')"
   ]
  },
  {
   "cell_type": "code",
   "execution_count": 11,
   "metadata": {},
   "outputs": [
    {
     "data": {
      "text/html": [
       "<div>\n",
       "<style scoped>\n",
       "    .dataframe tbody tr th:only-of-type {\n",
       "        vertical-align: middle;\n",
       "    }\n",
       "\n",
       "    .dataframe tbody tr th {\n",
       "        vertical-align: top;\n",
       "    }\n",
       "\n",
       "    .dataframe thead th {\n",
       "        text-align: right;\n",
       "    }\n",
       "</style>\n",
       "<table border=\"1\" class=\"dataframe\">\n",
       "  <thead>\n",
       "    <tr style=\"text-align: right;\">\n",
       "      <th></th>\n",
       "      <th>ONE</th>\n",
       "      <th>X</th>\n",
       "      <th>TWO</th>\n",
       "      <th>OVER25</th>\n",
       "    </tr>\n",
       "  </thead>\n",
       "  <tbody>\n",
       "    <tr>\n",
       "      <th>count</th>\n",
       "      <td>250.000000</td>\n",
       "      <td>250.000000</td>\n",
       "      <td>250.000000</td>\n",
       "      <td>250.000000</td>\n",
       "    </tr>\n",
       "    <tr>\n",
       "      <th>mean</th>\n",
       "      <td>3.160640</td>\n",
       "      <td>4.338280</td>\n",
       "      <td>5.286680</td>\n",
       "      <td>0.552000</td>\n",
       "    </tr>\n",
       "    <tr>\n",
       "      <th>std</th>\n",
       "      <td>2.579319</td>\n",
       "      <td>1.789448</td>\n",
       "      <td>5.563185</td>\n",
       "      <td>0.498286</td>\n",
       "    </tr>\n",
       "    <tr>\n",
       "      <th>min</th>\n",
       "      <td>1.070000</td>\n",
       "      <td>2.970000</td>\n",
       "      <td>1.120000</td>\n",
       "      <td>0.000000</td>\n",
       "    </tr>\n",
       "    <tr>\n",
       "      <th>25%</th>\n",
       "      <td>1.602500</td>\n",
       "      <td>3.312500</td>\n",
       "      <td>2.225000</td>\n",
       "      <td>0.000000</td>\n",
       "    </tr>\n",
       "    <tr>\n",
       "      <th>50%</th>\n",
       "      <td>2.365000</td>\n",
       "      <td>3.615000</td>\n",
       "      <td>3.295000</td>\n",
       "      <td>1.000000</td>\n",
       "    </tr>\n",
       "    <tr>\n",
       "      <th>75%</th>\n",
       "      <td>3.417500</td>\n",
       "      <td>4.435000</td>\n",
       "      <td>5.787500</td>\n",
       "      <td>1.000000</td>\n",
       "    </tr>\n",
       "    <tr>\n",
       "      <th>max</th>\n",
       "      <td>19.970000</td>\n",
       "      <td>13.620000</td>\n",
       "      <td>33.170000</td>\n",
       "      <td>1.000000</td>\n",
       "    </tr>\n",
       "  </tbody>\n",
       "</table>\n",
       "</div>"
      ],
      "text/plain": [
       "              ONE           X         TWO      OVER25\n",
       "count  250.000000  250.000000  250.000000  250.000000\n",
       "mean     3.160640    4.338280    5.286680    0.552000\n",
       "std      2.579319    1.789448    5.563185    0.498286\n",
       "min      1.070000    2.970000    1.120000    0.000000\n",
       "25%      1.602500    3.312500    2.225000    0.000000\n",
       "50%      2.365000    3.615000    3.295000    1.000000\n",
       "75%      3.417500    4.435000    5.787500    1.000000\n",
       "max     19.970000   13.620000   33.170000    1.000000"
      ]
     },
     "execution_count": 11,
     "metadata": {},
     "output_type": "execute_result"
    }
   ],
   "source": [
    "# Məşğələ məlumatlarına baxırıq\n",
    "train_dataset.describe()"
   ]
  },
  {
   "cell_type": "code",
   "execution_count": 12,
   "metadata": {},
   "outputs": [
    {
     "data": {
      "text/html": [
       "<div>\n",
       "<style scoped>\n",
       "    .dataframe tbody tr th:only-of-type {\n",
       "        vertical-align: middle;\n",
       "    }\n",
       "\n",
       "    .dataframe tbody tr th {\n",
       "        vertical-align: top;\n",
       "    }\n",
       "\n",
       "    .dataframe thead th {\n",
       "        text-align: right;\n",
       "    }\n",
       "</style>\n",
       "<table border=\"1\" class=\"dataframe\">\n",
       "  <thead>\n",
       "    <tr style=\"text-align: right;\">\n",
       "      <th></th>\n",
       "      <th>ONE</th>\n",
       "      <th>X</th>\n",
       "      <th>TWO</th>\n",
       "      <th>OVER25</th>\n",
       "    </tr>\n",
       "  </thead>\n",
       "  <tbody>\n",
       "    <tr>\n",
       "      <th>count</th>\n",
       "      <td>63.000000</td>\n",
       "      <td>63.000000</td>\n",
       "      <td>63.000000</td>\n",
       "      <td>63.000000</td>\n",
       "    </tr>\n",
       "    <tr>\n",
       "      <th>mean</th>\n",
       "      <td>3.540159</td>\n",
       "      <td>4.570952</td>\n",
       "      <td>5.675556</td>\n",
       "      <td>0.539683</td>\n",
       "    </tr>\n",
       "    <tr>\n",
       "      <th>std</th>\n",
       "      <td>4.145862</td>\n",
       "      <td>1.899698</td>\n",
       "      <td>5.344259</td>\n",
       "      <td>0.502426</td>\n",
       "    </tr>\n",
       "    <tr>\n",
       "      <th>min</th>\n",
       "      <td>1.100000</td>\n",
       "      <td>2.890000</td>\n",
       "      <td>1.120000</td>\n",
       "      <td>0.000000</td>\n",
       "    </tr>\n",
       "    <tr>\n",
       "      <th>25%</th>\n",
       "      <td>1.575000</td>\n",
       "      <td>3.350000</td>\n",
       "      <td>2.355000</td>\n",
       "      <td>0.000000</td>\n",
       "    </tr>\n",
       "    <tr>\n",
       "      <th>50%</th>\n",
       "      <td>2.220000</td>\n",
       "      <td>3.780000</td>\n",
       "      <td>3.580000</td>\n",
       "      <td>1.000000</td>\n",
       "    </tr>\n",
       "    <tr>\n",
       "      <th>75%</th>\n",
       "      <td>3.135000</td>\n",
       "      <td>5.330000</td>\n",
       "      <td>6.670000</td>\n",
       "      <td>1.000000</td>\n",
       "    </tr>\n",
       "    <tr>\n",
       "      <th>max</th>\n",
       "      <td>24.020000</td>\n",
       "      <td>10.980000</td>\n",
       "      <td>25.400000</td>\n",
       "      <td>1.000000</td>\n",
       "    </tr>\n",
       "  </tbody>\n",
       "</table>\n",
       "</div>"
      ],
      "text/plain": [
       "             ONE          X        TWO     OVER25\n",
       "count  63.000000  63.000000  63.000000  63.000000\n",
       "mean    3.540159   4.570952   5.675556   0.539683\n",
       "std     4.145862   1.899698   5.344259   0.502426\n",
       "min     1.100000   2.890000   1.120000   0.000000\n",
       "25%     1.575000   3.350000   2.355000   0.000000\n",
       "50%     2.220000   3.780000   3.580000   1.000000\n",
       "75%     3.135000   5.330000   6.670000   1.000000\n",
       "max    24.020000  10.980000  25.400000   1.000000"
      ]
     },
     "execution_count": 12,
     "metadata": {},
     "output_type": "execute_result"
    }
   ],
   "source": [
    "# Test məlumatlarına baxırıq.\n",
    "test_dataset.describe()"
   ]
  },
  {
   "cell_type": "code",
   "execution_count": 13,
   "metadata": {},
   "outputs": [
    {
     "data": {
      "text/html": [
       "<div>\n",
       "<style scoped>\n",
       "    .dataframe tbody tr th:only-of-type {\n",
       "        vertical-align: middle;\n",
       "    }\n",
       "\n",
       "    .dataframe tbody tr th {\n",
       "        vertical-align: top;\n",
       "    }\n",
       "\n",
       "    .dataframe thead th {\n",
       "        text-align: right;\n",
       "    }\n",
       "</style>\n",
       "<table border=\"1\" class=\"dataframe\">\n",
       "  <thead>\n",
       "    <tr style=\"text-align: right;\">\n",
       "      <th></th>\n",
       "      <th>count</th>\n",
       "      <th>mean</th>\n",
       "      <th>std</th>\n",
       "      <th>min</th>\n",
       "      <th>25%</th>\n",
       "      <th>50%</th>\n",
       "      <th>75%</th>\n",
       "      <th>max</th>\n",
       "    </tr>\n",
       "  </thead>\n",
       "  <tbody>\n",
       "    <tr>\n",
       "      <th>ONE</th>\n",
       "      <td>250.0</td>\n",
       "      <td>3.16064</td>\n",
       "      <td>2.579319</td>\n",
       "      <td>1.07</td>\n",
       "      <td>1.6025</td>\n",
       "      <td>2.365</td>\n",
       "      <td>3.4175</td>\n",
       "      <td>19.97</td>\n",
       "    </tr>\n",
       "    <tr>\n",
       "      <th>X</th>\n",
       "      <td>250.0</td>\n",
       "      <td>4.33828</td>\n",
       "      <td>1.789448</td>\n",
       "      <td>2.97</td>\n",
       "      <td>3.3125</td>\n",
       "      <td>3.615</td>\n",
       "      <td>4.4350</td>\n",
       "      <td>13.62</td>\n",
       "    </tr>\n",
       "    <tr>\n",
       "      <th>TWO</th>\n",
       "      <td>250.0</td>\n",
       "      <td>5.28668</td>\n",
       "      <td>5.563185</td>\n",
       "      <td>1.12</td>\n",
       "      <td>2.2250</td>\n",
       "      <td>3.295</td>\n",
       "      <td>5.7875</td>\n",
       "      <td>33.17</td>\n",
       "    </tr>\n",
       "  </tbody>\n",
       "</table>\n",
       "</div>"
      ],
      "text/plain": [
       "     count     mean       std   min     25%    50%     75%    max\n",
       "ONE  250.0  3.16064  2.579319  1.07  1.6025  2.365  3.4175  19.97\n",
       "X    250.0  4.33828  1.789448  2.97  3.3125  3.615  4.4350  13.62\n",
       "TWO  250.0  5.28668  5.563185  1.12  2.2250  3.295  5.7875  33.17"
      ]
     },
     "execution_count": 13,
     "metadata": {},
     "output_type": "execute_result"
    }
   ],
   "source": [
    "# qiyməti siyahıdan çıxırıq və məlumatlara baxırıq.\n",
    "train_stats = train_dataset.describe()\n",
    "train_stats.pop(\"OVER25\")\n",
    "train_stats = train_stats.transpose()\n",
    "train_stats"
   ]
  },
  {
   "cell_type": "code",
   "execution_count": 14,
   "metadata": {},
   "outputs": [],
   "source": [
    "# Biz burada qiyməti tapacağımıza görə həm train, həm də test dataset-dən price sütununu silməliyik.\n",
    "train_labels = train_dataset.pop('OVER25')\n",
    "test_labels = test_dataset.pop('OVER25')"
   ]
  },
  {
   "cell_type": "code",
   "execution_count": 15,
   "metadata": {},
   "outputs": [],
   "source": [
    "# Normallaşdırıcı funksiya\n",
    "def norm(x):\n",
    "  return (x - train_stats['mean']) / train_stats['std']\n",
    "\n",
    "# məşğələ və test dataseti normallaşdırırıq\n",
    "normed_train_data = norm(train_dataset)\n",
    "normed_test_data = norm(test_dataset)\n",
    "# Aşağıdakı ikisini comment etsəniz, bu zaman real normallaşdırılmış məlumat işə düşəcəkdir.\n",
    "normed_train_data = train_dataset\n",
    "normed_test_data = test_dataset"
   ]
  },
  {
   "cell_type": "code",
   "execution_count": 83,
   "metadata": {},
   "outputs": [],
   "source": [
    "# Model hazırlamaq üçün funksiya. Burada əlbəttə ki, layer qatlarını parametrləşdirərək, funksiya ilə təyin edə bilərik.\n",
    "# Hələlik isə belə sadə qalsın.\n",
    "def build_model():\n",
    "    model = keras.Sequential()\n",
    "    model.add(layers.Dense(16, activation=tf.nn.relu, input_shape=[len(train_dataset.keys())]))\n",
    "    model.add(layers.Dense(32, activation=tf.nn.relu))\n",
    "    model.add(layers.Dense(64, activation=tf.nn.relu))\n",
    "    model.add(layers.Dense(32, activation=tf.nn.relu))\n",
    "    model.add(layers.Dense(16, activation=tf.nn.relu))\n",
    "    model.add(layers.Dense(1)) \n",
    "    optimizer = tf.keras.optimizers.RMSprop(0.005)\n",
    "    model.compile(loss='mse', optimizer=optimizer, metrics=['mae', 'mse'])\n",
    "    return model"
   ]
  },
  {
   "cell_type": "code",
   "execution_count": 84,
   "metadata": {},
   "outputs": [],
   "source": [
    "# Modelimizi düzəldirik\n",
    "model = build_model()"
   ]
  },
  {
   "cell_type": "code",
   "execution_count": 85,
   "metadata": {},
   "outputs": [
    {
     "name": "stdout",
     "output_type": "stream",
     "text": [
      "_________________________________________________________________\n",
      "Layer (type)                 Output Shape              Param #   \n",
      "=================================================================\n",
      "dense_24 (Dense)             (None, 16)                64        \n",
      "_________________________________________________________________\n",
      "dense_25 (Dense)             (None, 32)                544       \n",
      "_________________________________________________________________\n",
      "dense_26 (Dense)             (None, 64)                2112      \n",
      "_________________________________________________________________\n",
      "dense_27 (Dense)             (None, 32)                2080      \n",
      "_________________________________________________________________\n",
      "dense_28 (Dense)             (None, 16)                528       \n",
      "_________________________________________________________________\n",
      "dense_29 (Dense)             (None, 1)                 17        \n",
      "=================================================================\n",
      "Total params: 5,345\n",
      "Trainable params: 5,345\n",
      "Non-trainable params: 0\n",
      "_________________________________________________________________\n"
     ]
    }
   ],
   "source": [
    "model.summary()"
   ]
  },
  {
   "cell_type": "code",
   "execution_count": 86,
   "metadata": {},
   "outputs": [
    {
     "data": {
      "text/html": [
       "<div>\n",
       "<style scoped>\n",
       "    .dataframe tbody tr th:only-of-type {\n",
       "        vertical-align: middle;\n",
       "    }\n",
       "\n",
       "    .dataframe tbody tr th {\n",
       "        vertical-align: top;\n",
       "    }\n",
       "\n",
       "    .dataframe thead th {\n",
       "        text-align: right;\n",
       "    }\n",
       "</style>\n",
       "<table border=\"1\" class=\"dataframe\">\n",
       "  <thead>\n",
       "    <tr style=\"text-align: right;\">\n",
       "      <th></th>\n",
       "      <th>ONE</th>\n",
       "      <th>X</th>\n",
       "      <th>TWO</th>\n",
       "    </tr>\n",
       "  </thead>\n",
       "  <tbody>\n",
       "    <tr>\n",
       "      <th>65</th>\n",
       "      <td>1.25</td>\n",
       "      <td>6.90</td>\n",
       "      <td>10.13</td>\n",
       "    </tr>\n",
       "    <tr>\n",
       "      <th>253</th>\n",
       "      <td>1.40</td>\n",
       "      <td>5.10</td>\n",
       "      <td>7.59</td>\n",
       "    </tr>\n",
       "    <tr>\n",
       "      <th>208</th>\n",
       "      <td>3.38</td>\n",
       "      <td>3.31</td>\n",
       "      <td>2.25</td>\n",
       "    </tr>\n",
       "    <tr>\n",
       "      <th>156</th>\n",
       "      <td>6.86</td>\n",
       "      <td>4.59</td>\n",
       "      <td>1.48</td>\n",
       "    </tr>\n",
       "    <tr>\n",
       "      <th>108</th>\n",
       "      <td>1.99</td>\n",
       "      <td>3.52</td>\n",
       "      <td>3.93</td>\n",
       "    </tr>\n",
       "    <tr>\n",
       "      <th>150</th>\n",
       "      <td>1.19</td>\n",
       "      <td>7.00</td>\n",
       "      <td>16.37</td>\n",
       "    </tr>\n",
       "    <tr>\n",
       "      <th>134</th>\n",
       "      <td>1.21</td>\n",
       "      <td>6.83</td>\n",
       "      <td>14.86</td>\n",
       "    </tr>\n",
       "    <tr>\n",
       "      <th>116</th>\n",
       "      <td>12.00</td>\n",
       "      <td>6.79</td>\n",
       "      <td>1.23</td>\n",
       "    </tr>\n",
       "    <tr>\n",
       "      <th>74</th>\n",
       "      <td>1.24</td>\n",
       "      <td>6.63</td>\n",
       "      <td>12.15</td>\n",
       "    </tr>\n",
       "    <tr>\n",
       "      <th>261</th>\n",
       "      <td>1.18</td>\n",
       "      <td>7.47</td>\n",
       "      <td>16.94</td>\n",
       "    </tr>\n",
       "  </tbody>\n",
       "</table>\n",
       "</div>"
      ],
      "text/plain": [
       "       ONE     X    TWO\n",
       "65    1.25  6.90  10.13\n",
       "253   1.40  5.10   7.59\n",
       "208   3.38  3.31   2.25\n",
       "156   6.86  4.59   1.48\n",
       "108   1.99  3.52   3.93\n",
       "150   1.19  7.00  16.37\n",
       "134   1.21  6.83  14.86\n",
       "116  12.00  6.79   1.23\n",
       "74    1.24  6.63  12.15\n",
       "261   1.18  7.47  16.94"
      ]
     },
     "execution_count": 86,
     "metadata": {},
     "output_type": "execute_result"
    }
   ],
   "source": [
    "# normallaşdırılmış datasetdə hər hansı bir boşluq varsa, onları 0 ilə əvəzləyirik\n",
    "normed_train_data.fillna(0, inplace=True)\n",
    "# Məlumat belə görünür\n",
    "normed_train_data[:10]"
   ]
  },
  {
   "cell_type": "code",
   "execution_count": 87,
   "metadata": {},
   "outputs": [
    {
     "name": "stdout",
     "output_type": "stream",
     "text": [
      "[[ 0.0307075 ]\n",
      " [ 0.05743945]\n",
      " [-0.03523655]\n",
      " [ 0.02394405]\n",
      " [ 0.03082342]\n",
      " [ 0.23179974]\n",
      " [ 0.01406334]\n",
      " [-0.01246674]\n",
      " [ 0.03922985]\n",
      " [ 0.02848078]]\n"
     ]
    }
   ],
   "source": [
    "# test datadan 10 sətir götürüb modelimizi test edirik. Nəticədə qiymətlər çıxır. Deyə bilərik ki, model funksionaldır.\n",
    "example_batch = normed_test_data[:10]\n",
    "example_result = model.predict(example_batch)\n",
    "print(example_result)"
   ]
  },
  {
   "cell_type": "code",
   "execution_count": 88,
   "metadata": {},
   "outputs": [
    {
     "name": "stdout",
     "output_type": "stream",
     "text": [
      "\n",
      "0, 1, 2, 3, 4, 5, 6, 7, 8, 9, 10, 11, 12, 13, 14, 15, 16, 17, 18, 19, 20, 21, 22, 23, 24, 25, 26, "
     ]
    }
   ],
   "source": [
    "# epoch dataset üzərində məşğələlərin sayını bildirir. Yəni, 1 epoch modelin bütün məlumatları 1 dəfə \"görməsi\" deməkdir.\n",
    "# Bizim modeldə 3750 daha yaxşı görünür, ona görə də bu rəqəmi qeyd etmişəm.\n",
    "epoch = 1000\n",
    "\n",
    "# Aşağıdakı qrafikə baxanda aydın olur ki, xəta payı müəyyən epoch sayından sonra x xəttinə paralel gedir. Bu o deməkdir ki,\n",
    "# modelin öyrənməyində artıq heç bir inkişaf yoxdur. Yəni, xəta payı daha da aşağı enmir. (Qrafikə baxanda aydın olur ki. \n",
    "# xəta payı yuxarıdan başlayır və epoch sayı artıqca aşağı doğru hərəkət edir və bir nöqtədə aşağı hərəkətini saxlayır,\n",
    "# y xəttinə paralel gedir. Bundan sonra modelin öyrənməsinə gərək qalmır. early_stop bu nöqtəni təyin edir və modelin \n",
    "# öyrənmə prosesini dayandırır.)\n",
    "early_stop = keras.callbacks.EarlyStopping(monitor='val_loss', patience=10)\n",
    "\n",
    "# modeli burada öyrədirik və bütün məlumatı history dəyişkənində saxlayırıq.\n",
    "history = model.fit(\n",
    "  normed_train_data, \n",
    "    train_labels,\n",
    "  epochs=epoch, \n",
    "    validation_split = 0.2, \n",
    "    verbose=0, callbacks=[Xetle(), early_stop]\n",
    ")\n",
    "\n",
    "# Modeli yaddaşa vermək üçün. Sonluğu .model kimi təyin eləmişəm. Siz istədiyiniz kimi təyin edə bilərsiniz. Çox hallarda\n",
    "# h5py kimi qeyd edirlər. Yaddaşa verdikdən sonra modeli daha sonra load_model() metodu ilə yükləyib istifadə edə bilərsiniz.\n",
    "model.save('modelin-adi-' + str(int(time.time())) + '.model')\n",
    "# early_stop modelin öyrənilməsi ərzində deqradasiya gedərsə öyrənmə prosesini avtomatik dayandırır. Bu parametri silərək modeli\n",
    "# tam öyrədə bilərsiniz. Bu zaman isə overfitting əmələ gələcək. Overfitting haqqında isə daha sonra ətraflı yazacam\n",
    "\n",
    "# Aşağıda testlər apararaq minimal uzaqlaşma xətasını tapmağa çalışmışam.\n",
    "# epoch(3750) = 975.94\n",
    "# epoch(4000) = 983.17\n",
    "# epoch(3800) = 981.18\n",
    "# epoch(3700) = 993.35\n",
    "# epoch(3760) = 999.12\n",
    "\n",
    "# Nəticədə 3750 istifadə etdim"
   ]
  },
  {
   "cell_type": "code",
   "execution_count": 89,
   "metadata": {},
   "outputs": [
    {
     "data": {
      "text/html": [
       "<div>\n",
       "<style scoped>\n",
       "    .dataframe tbody tr th:only-of-type {\n",
       "        vertical-align: middle;\n",
       "    }\n",
       "\n",
       "    .dataframe tbody tr th {\n",
       "        vertical-align: top;\n",
       "    }\n",
       "\n",
       "    .dataframe thead th {\n",
       "        text-align: right;\n",
       "    }\n",
       "</style>\n",
       "<table border=\"1\" class=\"dataframe\">\n",
       "  <thead>\n",
       "    <tr style=\"text-align: right;\">\n",
       "      <th></th>\n",
       "      <th>val_loss</th>\n",
       "      <th>val_mean_absolute_error</th>\n",
       "      <th>val_mean_squared_error</th>\n",
       "      <th>loss</th>\n",
       "      <th>mean_absolute_error</th>\n",
       "      <th>mean_squared_error</th>\n",
       "      <th>epoch</th>\n",
       "    </tr>\n",
       "  </thead>\n",
       "  <tbody>\n",
       "    <tr>\n",
       "      <th>22</th>\n",
       "      <td>0.223569</td>\n",
       "      <td>0.450597</td>\n",
       "      <td>0.223569</td>\n",
       "      <td>0.247012</td>\n",
       "      <td>0.486046</td>\n",
       "      <td>0.247012</td>\n",
       "      <td>22</td>\n",
       "    </tr>\n",
       "    <tr>\n",
       "      <th>23</th>\n",
       "      <td>0.231566</td>\n",
       "      <td>0.477360</td>\n",
       "      <td>0.231566</td>\n",
       "      <td>0.252570</td>\n",
       "      <td>0.487946</td>\n",
       "      <td>0.252570</td>\n",
       "      <td>23</td>\n",
       "    </tr>\n",
       "    <tr>\n",
       "      <th>24</th>\n",
       "      <td>0.232143</td>\n",
       "      <td>0.470671</td>\n",
       "      <td>0.232143</td>\n",
       "      <td>0.258373</td>\n",
       "      <td>0.498870</td>\n",
       "      <td>0.258373</td>\n",
       "      <td>24</td>\n",
       "    </tr>\n",
       "    <tr>\n",
       "      <th>25</th>\n",
       "      <td>0.241557</td>\n",
       "      <td>0.490175</td>\n",
       "      <td>0.241557</td>\n",
       "      <td>0.246711</td>\n",
       "      <td>0.484143</td>\n",
       "      <td>0.246711</td>\n",
       "      <td>25</td>\n",
       "    </tr>\n",
       "    <tr>\n",
       "      <th>26</th>\n",
       "      <td>0.221456</td>\n",
       "      <td>0.454994</td>\n",
       "      <td>0.221456</td>\n",
       "      <td>0.249735</td>\n",
       "      <td>0.492121</td>\n",
       "      <td>0.249735</td>\n",
       "      <td>26</td>\n",
       "    </tr>\n",
       "  </tbody>\n",
       "</table>\n",
       "</div>"
      ],
      "text/plain": [
       "    val_loss  val_mean_absolute_error  val_mean_squared_error      loss  mean_absolute_error  mean_squared_error  epoch\n",
       "22  0.223569                 0.450597                0.223569  0.247012             0.486046            0.247012     22\n",
       "23  0.231566                 0.477360                0.231566  0.252570             0.487946            0.252570     23\n",
       "24  0.232143                 0.470671                0.232143  0.258373             0.498870            0.258373     24\n",
       "25  0.241557                 0.490175                0.241557  0.246711             0.484143            0.246711     25\n",
       "26  0.221456                 0.454994                0.221456  0.249735             0.492121            0.249735     26"
      ]
     },
     "execution_count": 89,
     "metadata": {},
     "output_type": "execute_result"
    }
   ],
   "source": [
    "hist = pd.DataFrame(history.history)\n",
    "hist['epoch'] = history.epoch\n",
    "hist.tail()"
   ]
  },
  {
   "cell_type": "code",
   "execution_count": 90,
   "metadata": {},
   "outputs": [
    {
     "data": {
      "image/png": "[encoded data removed]",
      "text/plain": [
       "<Figure size 432x288 with 1 Axes>"
      ]
     },
     "metadata": {
      "needs_background": "light"
     },
     "output_type": "display_data"
    },
    {
     "data": {
      "image/png": "[encoded data removed]",
      "text/plain": [
       "<Figure size 432x288 with 1 Axes>"
      ]
     },
     "metadata": {
      "needs_background": "light"
     },
     "output_type": "display_data"
    }
   ],
   "source": [
    "plot_history(history)"
   ]
  },
  {
   "cell_type": "code",
   "execution_count": 91,
   "metadata": {},
   "outputs": [
    {
     "name": "stdout",
     "output_type": "stream",
     "text": [
      "Mütləq xəta ortalaması:  0.52\n"
     ]
    },
    {
     "data": {
      "text/plain": [
       "[<matplotlib.lines.Line2D at 0x12344ebff60>]"
      ]
     },
     "execution_count": 91,
     "metadata": {},
     "output_type": "execute_result"
    },
    {
     "data": {
      "image/png": "[encoded data removed]",
      "text/plain": [
       "<Figure size 432x288 with 1 Axes>"
      ]
     },
     "metadata": {
      "needs_background": "light"
     },
     "output_type": "display_data"
    }
   ],
   "source": [
    "loss, mae, mse = model.evaluate(normed_test_data, test_labels, verbose=0)\n",
    "\n",
    "# Yəni, əldə etdiyimiz nəticə bu rəqəm qədər artıq və ya az ola bilər :) \n",
    "# Nə qədər aşağı olsa deməli model o qədər də yaxşı işləyir\n",
    "print(\"Mütləq xəta ortalaması: {:5.2f}\".format(mae))\n",
    "\n",
    "test_predictions = model.predict(normed_test_data).flatten()\n",
    "\n",
    "plt.scatter(test_labels, test_predictions)\n",
    "plt.xlabel('True Values [-]')\n",
    "plt.ylabel('Predictions [-]')\n",
    "# plt.axis('equal')\n",
    "# plt.axis('square')\n",
    "# plt.xlim([0,plt.xlim()[1]])\n",
    "# plt.ylim([0,plt.ylim()[1]])\n",
    "# _ = plt.plot([-100, 100], [-100, 100])\n",
    "plt.plot([0, 10000], [0, 10000])\n",
    "\n",
    "\n",
    "# Yenə də qrafikə baxanda aydın olur ki, hələ görüləcək işlərimiz çoxdur. Yəni modeli çox optimallaşdırmalıyıq.\n",
    "# Xəttimiz tam olaraq da paylanmanı təmsil etmir. Bir az daha əyri xətt daha yaxşı olardı."
   ]
  },
  {
   "cell_type": "code",
   "execution_count": 92,
   "metadata": {},
   "outputs": [
    {
     "data": {
      "image/png": "[encoded data removed]",
      "text/plain": [
       "<Figure size 432x288 with 1 Axes>"
      ]
     },
     "metadata": {
      "needs_background": "light"
     },
     "output_type": "display_data"
    }
   ],
   "source": [
    "# Xəta/say histoqramı\n",
    "error = test_predictions - test_labels\n",
    "plt.hist(error, bins = 25)\n",
    "plt.xlabel(\"Proqnoz xətası [-]\")\n",
    "_ = plt.ylabel(\"Say\")"
   ]
  },
  {
   "cell_type": "code",
   "execution_count": 93,
   "metadata": {},
   "outputs": [
    {
     "data": {
      "text/plain": [
       "array([0.51407164, 0.47718507, 0.5248705 , 0.5057688 , 0.49274656,\n",
       "       0.95994014, 0.5041758 , 0.51906294, 0.54195523, 0.5627557 ],\n",
       "      dtype=float32)"
      ]
     },
     "execution_count": 93,
     "metadata": {},
     "output_type": "execute_result"
    }
   ],
   "source": [
    "# Burada real məlumatlardan düzəltdiyimi test məlumatlar haqqında proqnoz veririk\n",
    "test_predictions = model.predict(normed_test_data[:10]).flatten()\n",
    "# Proqnozu çap edirik\n",
    "test_predictions"
   ]
  },
  {
   "cell_type": "code",
   "execution_count": 104,
   "metadata": {},
   "outputs": [],
   "source": [
    "# Burada isə özümüz panda dataframe düzəldirik\n",
    "new_data = pd.DataFrame({ 'ONE': [2.07], 'X': [3.20], 'TWO': [3.15] })\n",
    "# norm funksiyası ilə məlumatı normallaşdıra bilərik\n",
    "normalized_new_data = new_data"
   ]
  },
  {
   "cell_type": "code",
   "execution_count": 105,
   "metadata": {},
   "outputs": [
    {
     "data": {
      "text/plain": [
       "array([0.48519176], dtype=float32)"
      ]
     },
     "execution_count": 105,
     "metadata": {},
     "output_type": "execute_result"
    }
   ],
   "source": [
    "# Məlumatı modelə ötürürük və nəticə əldə edirik\n",
    "model.predict(new_data).flatten()"
   ]
  },
  {
   "cell_type": "code",
   "execution_count": null,
   "metadata": {},
   "outputs": [],
   "source": []
  },
  {
   "cell_type": "code",
   "execution_count": null,
   "metadata": {},
   "outputs": [],
   "source": []
  }
 ],
 "metadata": {
  "kernelspec": {
   "display_name": "Python 3",
   "language": "python",
   "name": "python3"
  },
  "language_info": {
   "codemirror_mode": {
    "name": "ipython",
    "version": 3
   },
   "file_extension": ".py",
   "mimetype": "text/x-python",
   "name": "python",
   "nbconvert_exporter": "python",
   "pygments_lexer": "ipython3",
   "version": "3.6.5"
  }
 },
 "nbformat": 4,
 "nbformat_minor": 2
}
